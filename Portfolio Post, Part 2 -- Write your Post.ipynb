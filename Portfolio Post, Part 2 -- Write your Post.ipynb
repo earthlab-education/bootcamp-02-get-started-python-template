{
  "cells": [
    {
      "cell_type": "markdown",
      "metadata": {},
      "source": [
        "# Climate portfolio post\n",
        "\n",
        "Your turn!\n",
        "\n",
        "::: {.cell .markdown} \\## Pick a new location and/or measurement to plot\n",
        "🌏 📈\n",
        "\n",
        "Recreate the workflow you just did in a place that interests you OR with\n",
        "a different measurement. You will need to make your own new Markdown and\n",
        "Code cells below this one, or create a new notebook.\n",
        "\n",
        "Your analysis should include:\n",
        "\n",
        "1.  A researched (with citations or links) **site description**,\n",
        "    including *why* you chose the site\n",
        "2.  A researched (with citations or links) **data description**,\n",
        "    including a **data citation**\n",
        "3.  A researched (with citations or links) **methods overview**\n",
        "4.  Some kind of **visual evidence** (plot, chart, diagram) for your\n",
        "    results\n",
        "5.  A **headline and description** for the visual evidence that\n",
        "    *interprets* your analysis and puts it *in context*\n",
        "\n",
        "You should also delete the instructions before posting a portfolio page.\n",
        "\n",
        "| :::                                                                                                                                                                                                                                                                           |\n",
        "|-----|\n",
        "| jupyter: kernelspec: display_name: Python 3 (ipykernel) language: python name: python3 language_info: codemirror_mode: name: ipython version: 3 file_extension: .py mimetype: text/x-python name: python nbconvert_exporter: python pygments_lexer: ipython3 version: 3.10.14 |"
      ],
      "id": "bac4c77c-5e17-4404-bcf6-9e2f815c570b"
    }
  ],
  "nbformat": 4,
  "nbformat_minor": 5,
  "metadata": {
    "kernelspec": {
      "display_name": "Python 3",
      "language": "python",
      "name": "python3"
    }
  }
}