{
  "cells": [
    {
      "cell_type": "markdown",
      "metadata": {},
      "source": [
        "# Climate coding challenge, Part 6\n",
        "\n",
        "Getting your own data\n",
        "\n",
        "## There are more Earth Observation data online than any one person could ever look at\n",
        "\n",
        "[NASA’s Earth Observing System Data and Information System (EOSDIS)\n",
        "alone manages over 9PB of\n",
        "data](https://www.earthdata.nasa.gov/learn/articles/getting-petabytes-people-how-eosdis-facilitates-earth-observing-data-discovery-and-use).\n",
        "1 PB is roughly 100 times the entire Library of Congress (a good\n",
        "approximation of all the books available in the US). It’s all available\n",
        "to **you** once you learn how to download what you want.\n",
        "\n",
        "Here we’re using the NOAA National Centers for Environmental Information\n",
        "(NCEI) [Access Data\n",
        "Service](https://www.ncei.noaa.gov/support/access-data-service-api-user-documentation)\n",
        "application progamming interface (API) to request data from their web\n",
        "servers. We will be using data collected as part of the Global\n",
        "Historical Climatology Network daily (GHCNd) from their [Climate Data\n",
        "Online library](https://www.ncdc.noaa.gov/cdo-web/datasets) program at\n",
        "NOAA.\n",
        "\n",
        "For this example we’re requesting [daily summary data in\n",
        "**?meta:params.01-climate.location** (station ID\n",
        "**?meta:params.01-climate.station_id**)](https://www.ncdc.noaa.gov/cdo-web/datasets/GHCND/stations/GHCND:?meta:params.01-climate.station_id/detail)."
      ],
      "id": "f089c993-1269-4ac7-923b-aded0dab019c"
    },
    {
      "cell_type": "markdown",
      "metadata": {},
      "source": [
        "> ** Your task:**\n",
        ">\n",
        "> 1.  Research the [**Global Historical Climatology Network -\n",
        ">     Daily**](https://www.ncei.noaa.gov/metadata/geoportal/rest/metadata/item/gov.noaa.ncdc:C00861/html)\n",
        ">     data source.\n",
        "> 2.  In the cell below, write a 2-3 sentence description of the data\n",
        ">     source.\n",
        "> 3.  Include a citation of the data (**HINT:** See the ‘Data Citation’\n",
        ">     tab on the GHCNd overview page).\n",
        ">\n",
        "> Your description should include:\n",
        ">\n",
        "> -   who takes the data\n",
        "> -   where the data were taken\n",
        "> -   what the maximum temperature units are\n",
        "> -   how the data are collected"
      ],
      "id": "e6fae95c-05db-4ec5-b8f6-5677291e5178"
    },
    {
      "cell_type": "markdown",
      "metadata": {},
      "source": [
        "**YOUR DATA DESCRIPTION AND CITATION HERE** 🛎️"
      ],
      "id": "4ca2cf0e-ed33-46f8-b1fa-fb19a97dc40d"
    },
    {
      "cell_type": "markdown",
      "metadata": {},
      "source": [
        "## Access NCEI GHCNd Data from the internet using its API 🖥️ 📡 🖥️\n",
        "\n",
        "The cell below contains the URL for the data you will use in this part\n",
        "of the notebook. We created this URL by generating what is called an\n",
        "**API endpoint** using the NCEI [API\n",
        "documentation](https://www.ncei.noaa.gov/support/access-data-service-api-user-documentation).\n",
        "\n",
        "> **Note**\n",
        ">\n",
        "> An **application programming interface** (API) is a way for two or\n",
        "> more computer programs or components to communicate with each other.\n",
        "> It is a type of software interface, offering a service to other pieces\n",
        "> of software ([Wikipedia](https://en.wikipedia.org/wiki/API)).\n",
        "\n",
        "First things first – you will need to import the `pandas` library to\n",
        "access NCEI data through its URL:"
      ],
      "id": "65cbd277-08f2-46ea-9bec-d714881c4713"
    },
    {
      "cell_type": "code",
      "execution_count": 2,
      "metadata": {},
      "outputs": [],
      "source": [
        "# Import required packages"
      ],
      "id": "0080a1a4"
    },
    {
      "cell_type": "markdown",
      "metadata": {},
      "source": [
        "> ** Your task:**\n",
        ">\n",
        "> 1.  Pick an expressive variable name for the URL.\n",
        "> 2.  Reformat the URL so that it adheres to the [79-character PEP-8\n",
        ">     line\n",
        ">     limit](https://peps.python.org/pep-0008/#maximum-line-length). You\n",
        ">     should see two vertical lines in each cell - don’t let your code\n",
        ">     go past the second line.\n",
        "> 3.  At the end of the cell where you define your url variable, **call\n",
        ">     your variable (type out its name)** so it can be tested."
      ],
      "id": "c2936f0b-2081-41be-8939-d063f9538a5d"
    },
    {
      "cell_type": "code",
      "execution_count": 4,
      "metadata": {},
      "outputs": [],
      "source": [
        "stuff23 = ('https://www.ncei.noaa.gov/access/services/da'\n",
        "f'ta/v1?dataset=daily-summaries&dataTypes=TOBS,PRCP&stations={__param_station_id}&startDate={__param_start_date}&{__param_end_date}')\n",
        "stuff23"
      ],
      "id": "dbf3db2e"
    },
    {
      "cell_type": "code",
      "execution_count": 6,
      "metadata": {},
      "outputs": [],
      "source": [
        "# DO NOT MODIFY THIS TEST CELL\n",
        "resp_url = _\n",
        "\n",
        "if type(resp_url)==str:\n",
        "    print('\\u2705 Great work! You correctly called your url variable.')\n",
        "else:\n",
        "    print('\\u274C Oops - your url variable was not called correctly.')\n",
        "\n",
        "if len(resp_url)==218:\n",
        "    print('\\u2705 Great work! Your url is the correct length.')\n",
        "else:\n",
        "    print('\\u274C Oops - your url variable is not the correct length.')"
      ],
      "id": "3472ade3"
    },
    {
      "cell_type": "markdown",
      "metadata": {},
      "source": [
        "------------------------------------------------------------------------\n",
        "\n",
        "## **Download and get started working with NCEI data**\n",
        "\n",
        "Just like you did with the practice data, go ahead and use pandas to\n",
        "import data from your API URL into Python. If you didn’t do it already,\n",
        "you should import the pandas library **at the top of this notebook** so\n",
        "that others who want to use your code can find it easily."
      ],
      "id": "7fe1870c-40ef-4d1b-89d6-050bba5a8ec2"
    },
    {
      "cell_type": "code",
      "execution_count": 7,
      "metadata": {},
      "outputs": [],
      "source": [
        "# Import data into Python from NCEI API"
      ],
      "id": "959deead"
    },
    {
      "cell_type": "code",
      "execution_count": 9,
      "metadata": {},
      "outputs": [],
      "source": [
        "# DO NOT MODIFY THIS TEST CELL\n",
        "tmax_df_resp = _\n",
        "\n",
        "if isinstance(tmax_df_resp, pd.DataFrame):\n",
        "    print('\\u2705 Great work! You called a DataFrame.')\n",
        "else:\n",
        "    print('\\u274C Oops - make sure to call your DataFrame for testing.')"
      ],
      "id": "4e947b90"
    }
  ],
  "nbformat": 4,
  "nbformat_minor": 5,
  "metadata": {
    "kernelspec": {
      "name": "python3",
      "display_name": "Python 3 (ipykernel)",
      "language": "python"
    },
    "language_info": {
      "name": "python",
      "codemirror_mode": {
        "name": "ipython",
        "version": "3"
      },
      "file_extension": ".py",
      "mimetype": "text/x-python",
      "nbconvert_exporter": "python",
      "pygments_lexer": "ipython3",
      "version": "3.10.14"
    }
  }
}